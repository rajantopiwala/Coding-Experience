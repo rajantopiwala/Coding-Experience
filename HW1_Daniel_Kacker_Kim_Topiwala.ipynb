{
 "cells": [
  {
   "cell_type": "markdown",
   "id": "80cabbfa",
   "metadata": {},
   "source": [
    "## Task 1: Rock, Paper, Scissors"
   ]
  },
  {
   "cell_type": "markdown",
   "id": "d0493d8e",
   "metadata": {},
   "source": [
    "For this task, our goal was to program an interactive algorithm that allowed the user and computer to play \"Rock, Paper, Scissors\" and have the computer \"learn\" from the user's previous moves and strategize its choice accordingly. We created two functions to accomplish this: **computerChoose**, which takes in the total number of Rock, Paper, and Scissor moves played by the user thus far and helps the computer select the option that beats the user's most played option (if more than one option is most played by the user, the computer selects randomly from that subset), and **selectWinner**, which compares the user and computer moves to determine who won or if there was a draw. These were then called within a for loop, which continues to run as long as the user opts to continue to play. First, the computer chooses based on the logic previously described. Then, the human chooses. Their input is validated to make sure it is one of the predetermined options (R=Rock, P=paper, S=Scissors). The Rock / Paper / Scissors totals are updated and a winner is selected using our function and displayed. When the user ultimately decides to end play, stats about the number of games played and won are displayed."
   ]
  },
  {
   "cell_type": "code",
   "execution_count": 1,
   "id": "c3f0b136",
   "metadata": {},
   "outputs": [],
   "source": [
    "#initialize all variables to be used subsequently\n",
    "import random\n",
    "\n",
    "endLoop = False\n",
    "gamesPlayed = 0\n",
    "gamesWon = 0\n",
    "totalRock = 0\n",
    "totalPaper = 0\n",
    "totalScissors = 0"
   ]
  },
  {
   "cell_type": "code",
   "execution_count": 2,
   "id": "c90f2056",
   "metadata": {},
   "outputs": [],
   "source": [
    "def computerChoose(totalR,totalP,totalS):\n",
    "    totals={\"R\":totalR,\"P\":totalP,\"S\":totalS,}\n",
    "    maxPlayed=[k for k, v in totals.items() if v == max(totals.values())]\n",
    "    \n",
    "    choice=random.choice(maxPlayed)\n",
    "    \n",
    "    if choice==\"R\":\n",
    "        comp=\"P\"\n",
    "    if choice==\"P\":\n",
    "        comp=\"S\"\n",
    "    if choice==\"S\":\n",
    "        comp=\"R\"\n",
    "    return comp"
   ]
  },
  {
   "cell_type": "code",
   "execution_count": 3,
   "id": "6b8144f5",
   "metadata": {},
   "outputs": [],
   "source": [
    "def selectWinner(comp,human):\n",
    "    \n",
    "    #check to see if draw\n",
    "    if comp==human:\n",
    "        winner=\"D\"\n",
    "    \n",
    "    #check if human entered rock\n",
    "    elif human==\"R\":\n",
    "        if comp==\"P\":\n",
    "            winner=\"C\"\n",
    "        else:\n",
    "            winner=\"H\"\n",
    "    \n",
    "    #check if human entered paper\n",
    "    elif human==\"P\":\n",
    "        if comp==\"S\":\n",
    "            winner=\"C\"\n",
    "        else:\n",
    "            winner=\"H\"\n",
    "    \n",
    "    #check if human entered scissors\n",
    "    elif human==\"S\":\n",
    "        if comp==\"R\":\n",
    "            winner=\"C\"\n",
    "        else:\n",
    "            winner=\"H\"\n",
    "        \n",
    "    return winner"
   ]
  },
  {
   "cell_type": "code",
   "execution_count": 5,
   "id": "73e84311",
   "metadata": {},
   "outputs": [
    {
     "name": "stdout",
     "output_type": "stream",
     "text": [
      "Enter which move you would like to play (R=rock, P=paper, S=scissors): R\n",
      "R\n",
      "Computer chose: P\n",
      "Human chose: R\n",
      "Computer won!\n",
      "Play again? (Y/N): Y\n",
      "Enter which move you would like to play (R=rock, P=paper, S=scissors): R\n",
      "R\n",
      "Computer chose: P\n",
      "Human chose: R\n",
      "Computer won!\n",
      "Play again? (Y/N): Y\n",
      "Enter which move you would like to play (R=rock, P=paper, S=scissors): S\n",
      "S\n",
      "Computer chose: P\n",
      "Human chose: S\n",
      "Human won!\n",
      "Play again? (Y/N): Y\n",
      "Enter which move you would like to play (R=rock, P=paper, S=scissors): P\n",
      "P\n",
      "Computer chose: P\n",
      "Human chose: P\n",
      "It's a draw!\n",
      "Play again? (Y/N): Y\n",
      "Enter which move you would like to play (R=rock, P=paper, S=scissors): S\n",
      "S\n",
      "Computer chose: P\n",
      "Human chose: S\n",
      "Human won!\n",
      "Play again? (Y/N): N\n",
      "\n",
      "END OF GAME\n",
      "Games played: 6\n",
      "Games won by human: 2\n"
     ]
    }
   ],
   "source": [
    "while endLoop==False:\n",
    "    \n",
    "    #run comp choose function\n",
    "    compChoice = computerChoose(totalRock, totalPaper, totalScissors)\n",
    "    \n",
    "    #obtain user input\n",
    "    userChoice = input(\"Enter which move you would like to play (R=rock, P=paper, S=scissors): \")\n",
    "    while not(userChoice==\"R\" or userChoice==\"P\" or userChoice==\"S\"):\n",
    "            userChoice = input(\"Error - invalid input. Enter which move you would like to play (R=rock, P=paper, S=scissors):\")\n",
    "    print (userChoice)\n",
    "    \n",
    "    #update totals\n",
    "    if userChoice==\"R\":\n",
    "        totalRock+=1\n",
    "    if userChoice==\"P\":\n",
    "        totalPaper+=1\n",
    "    if userChoice==\"S\":\n",
    "        totalScissors+=1\n",
    "    gamesPlayed +=1\n",
    "    \n",
    "    #run choose winner function\n",
    "    winner=selectWinner(compChoice,userChoice)\n",
    "    \n",
    "    #print choices\n",
    "    print(\"Computer chose: \" + compChoice)\n",
    "    print(\"Human chose: \" + userChoice)\n",
    "    \n",
    "    #output winner\n",
    "    if winner==\"D\":\n",
    "        print(\"It's a draw!\")\n",
    "    if winner==\"C\":\n",
    "        print(\"Computer won!\")\n",
    "    if winner==\"H\":\n",
    "        gamesWon+=1\n",
    "        print(\"Human won!\")\n",
    "\n",
    "    \n",
    "    #ask to play again\n",
    "    playAgain = input(\"Play again? (Y/N): \")\n",
    "    while not(playAgain==\"Y\" or playAgain==\"N\"):\n",
    "            playAgain = input(\"Error - invalid input. Enter Y to play again or N to end: \")\n",
    "    \n",
    "    #determine if play again or no\n",
    "    if playAgain==\"N\":\n",
    "        endLoop=True\n",
    "        \n",
    "    #ending output\n",
    "print()\n",
    "print(\"END OF GAME\")\n",
    "print(\"Games played: \" + str(gamesPlayed))\n",
    "print(\"Games won by human: \" + str(gamesWon))"
   ]
  },
  {
   "cell_type": "markdown",
   "id": "42473cf3",
   "metadata": {},
   "source": [
    "## Task 2: Movies"
   ]
  },
  {
   "cell_type": "markdown",
   "id": "9f2f8931",
   "metadata": {},
   "source": [
    "For this task, our objective was to create an algorithm that allowed us to read in a document of actors and movies they were in, take in user input for two movies from the list, and return the actors in both movies as well as the actors in just one of the two. We first created an empty dictionary and read in the file, splitting each line into a key (the actor name) and values (a list of all movies they were in). In the **getMovieName** function, we take in this dictionary and ask the user for the name of the movie they want to use. A list of all movies referenced in the document was created, and the user's input is compared to this to ensure they entered a movie that we have information about. This method is called twice to collect two movie names from the user. In the **createActorList** function, we create an empty list and work through each key-value set in the master movie dictionary to determine if the actor was in the movie (i.e. the movie is an element in the value list); if so, the actor (key) is added to the empty list. This method is also called twice to create two lists - all actors in Movie 1 and all actors in Movie 2. Finally, we compare the two lists to determine which elements appear in both as well as which appear in the Movie 1 list but not the Movie 2 list and vice versa. Once these lists have been fully compiled, they are displayed to the user."
   ]
  },
  {
   "cell_type": "code",
   "execution_count": 6,
   "id": "0c074453",
   "metadata": {},
   "outputs": [],
   "source": [
    "#read in file\n",
    "fp = open('movies.csv', 'r')\n",
    "\n",
    "movieDict=dict()\n",
    "\n",
    "line = fp.readline()\n",
    "while line != '':\n",
    "    \n",
    "    line = line.rstrip()\n",
    "    delimeter=\",\"\n",
    "    splitList=line.split(delimeter)\n",
    "    key=splitList[0]\n",
    "    vals=splitList[1:]\n",
    "    \n",
    "    movieDict[key]=vals\n",
    "\n",
    "    line = fp.readline()"
   ]
  },
  {
   "cell_type": "code",
   "execution_count": 9,
   "id": "2d9725ae",
   "metadata": {},
   "outputs": [],
   "source": [
    "def getMovieName(dictionary, numMovie):\n",
    "    \n",
    "    #create flattened list of all movies\n",
    "    allMovies=movieDict.values()\n",
    "    allMoviesFlat=[]\n",
    "    for item in allMovies:\n",
    "        if type(item) is list:\n",
    "            for element in item:\n",
    "                allMoviesFlat.append(element)\n",
    "    \n",
    "    movieName=input(\"Enter the name of movie \" + numMovie + \": \")\n",
    "    \n",
    "   #validate user input\n",
    "    inMovie=movieName in allMoviesFlat\n",
    "    while inMovie==False:\n",
    "        movieName=input(\"Error - invalid input. Enter the name of the movie: \")\n",
    "        inMovie=movieName in allMoviesFlat\n",
    "        \n",
    "    return movieName"
   ]
  },
  {
   "cell_type": "code",
   "execution_count": 10,
   "id": "b2b0f08c",
   "metadata": {},
   "outputs": [],
   "source": [
    "def createActorList(dictionary, movie):\n",
    "    actorsInMovie=[]\n",
    "    for item in dictionary:\n",
    "        sampleList=dictionary[item]\n",
    "        for title in sampleList:\n",
    "            if movie==title:\n",
    "                actorsInMovie.append(item)\n",
    "    return actorsInMovie"
   ]
  },
  {
   "cell_type": "code",
   "execution_count": 15,
   "id": "2d28218c",
   "metadata": {},
   "outputs": [
    {
     "name": "stdout",
     "output_type": "stream",
     "text": [
      "Enter the name of movie 1: Finding Neverland\n",
      "Enter the name of movie 2: Titanic\n"
     ]
    }
   ],
   "source": [
    "movie1=getMovieName(movieDict, \"1\")\n",
    "movie2=getMovieName(movieDict, \"2\")"
   ]
  },
  {
   "cell_type": "code",
   "execution_count": 16,
   "id": "fa64fe4e",
   "metadata": {},
   "outputs": [],
   "source": [
    "movie1Actors = createActorList(movieDict,movie1)\n",
    "movie2Actors = createActorList(movieDict,movie2)"
   ]
  },
  {
   "cell_type": "code",
   "execution_count": 17,
   "id": "f433f389",
   "metadata": {},
   "outputs": [],
   "source": [
    "#create blank lists\n",
    "bothMovies = []\n",
    "movie1Not2 = []\n",
    "movie2Not1 = [] \n",
    "\n",
    "#check if in movie 1 and 2\n",
    "for item in movie1Actors:\n",
    "    if item in movie2Actors:\n",
    "        bothMovies.append(str(item))\n",
    "    else:\n",
    "        movie1Not2.append(str(item))\n",
    "        \n",
    "#check if in movie 2, not 1\n",
    "for item in movie2Actors:\n",
    "    if item not in movie1Actors:\n",
    "        movie2Not1.append(str(item))"
   ]
  },
  {
   "cell_type": "code",
   "execution_count": 18,
   "id": "352f30d6",
   "metadata": {},
   "outputs": [
    {
     "name": "stdout",
     "output_type": "stream",
     "text": [
      "Movie 1 Title: Finding Neverland\n",
      "Movie 2 Title: Titanic\n",
      "Actors in both movies:  ['Kate Winslet']\n",
      "Actors in Movie 1, not 2:  ['Johnny Depp']\n",
      "Actors in Movie 2, not 1:  ['Leonardo Di Caprio']\n"
     ]
    }
   ],
   "source": [
    "print(\"Movie 1 Title: \" + movie1)\n",
    "print(\"Movie 2 Title: \" + movie2)\n",
    "print(\"Actors in both movies: \", bothMovies)\n",
    "print(\"Actors in Movie 1, not 2: \", movie1Not2)\n",
    "print(\"Actors in Movie 2, not 1: \", movie2Not1)"
   ]
  },
  {
   "cell_type": "markdown",
   "id": "a34067f3",
   "metadata": {},
   "source": [
    "## Task 3: Song-writing"
   ]
  },
  {
   "cell_type": "markdown",
   "id": "bce59ec5",
   "metadata": {},
   "source": [
    "For this task, we wanted to use input from a song file and an endings file to finish the song while maintaining rhyming and beats. We used Pandas and NumPy to achieve this. Our first step was to read in both files and create data frames with relevant column titles out of them. We then traverse the file using a complex for loop. For each row in the song dataframe (i.e. line in the song), we start by considering the ending. If it **is not missing** (not \"XXX\"), we store information about the line - the starting words, number of beats - and match it with the correct ending from the endings file to determine the rhyme and total line beats for future reference. If the ending is blank (i.e. there is no ending), we use the starting words beats as the total line beats and keep the rhyme the same as the previous line. For endings that **are missing** (are \"XXX\"), we used the stored rhyme and total line beats from the previous line and filter the endings data frame to find the ending that matches both criteria. The rhyme and total line beats are then updated for future reference. At the end of traversing each line, we print the line, so in the end, the completed song appears in the output one line at a time."
   ]
  },
  {
   "cell_type": "code",
   "execution_count": 19,
   "id": "0eda898c",
   "metadata": {},
   "outputs": [],
   "source": [
    "import pandas as pd\n",
    "import numpy as np\n",
    "\n",
    "#import song file as data frame\n",
    "song_columns=[\"Start\",\"Beats\",\"End\"]\n",
    "song_df = pd.read_csv('skeleton_SamuraiShowdown.txt',sep=\"::\",engine=\"python\",names=song_columns)\n",
    "song_df=song_df.fillna(\"BLANK\")\n",
    "\n",
    "#import endings file as data frame\n",
    "end_columns=[\"End\",\"Rhyme\",\"Beats\"]\n",
    "end_df = pd.read_csv('endings.txt',sep=\"::\",engine=\"python\",names=end_columns)"
   ]
  },
  {
   "cell_type": "code",
   "execution_count": 20,
   "id": "95d199be",
   "metadata": {},
   "outputs": [
    {
     "name": "stdout",
     "output_type": "stream",
     "text": [
      "He took a drag of the eight elements that composed, atmospheric gas\n",
      "'Bout to let off his sword, and full blast\n",
      "Kept his mind focused\n",
      "meditation position half lotus\n",
      "Abbot's sword novas couldn't match his magnum opus\n",
      "Deluxe stroke \n",
      "son move like a ghost\n",
      "Struck in an instance, \n",
      "unnoticed like a lamp post\n",
      "Radar sharp precision gunfire, \n",
      " explode\n",
      "Till his clips unload\n",
      "it's a samurai code\n"
     ]
    }
   ],
   "source": [
    "for index,row in song_df.iterrows():\n",
    "    currentEnding=row['End']\n",
    "    if currentEnding != \"XXX\":\n",
    "        #update info about line\n",
    "        currentPrefix=row['Start']\n",
    "        if currentPrefix==\"BLANK\":\n",
    "            currentPrefix=\"\"\n",
    "        currentPrefixBeats=row['Beats']\n",
    "        \n",
    "        if currentEnding != \"BLANK\":\n",
    "        \n",
    "            #find correct ending\n",
    "            mask=(end_df['End']==currentEnding)\n",
    "            endingRow=end_df[mask]\n",
    "        \n",
    "            #update recurring total beats / rhyme\n",
    "            currentEndingBeats=endingRow['Beats'].values\n",
    "            currentLineBeats=currentPrefixBeats+currentEndingBeats\n",
    "        \n",
    "            currentRhyme=str(endingRow['Rhyme'].values)\n",
    "            currentRhyme=currentRhyme.replace(\"['\",'')\n",
    "            currentRhyme=currentRhyme.replace(\"']\",'')\n",
    "            \n",
    "        else:\n",
    "            currentLineBeats=currentPrefixBeats\n",
    "            currentEnding=\"\"\n",
    "        \n",
    "        print(currentPrefix + \" \" + currentEnding)\n",
    "        \n",
    "    else:\n",
    "        #update info about line\n",
    "        currentPrefix=row['Start']\n",
    "        currentPrefixBeats=row['Beats']\n",
    "        currentEndingBeats=currentLineBeats-currentPrefixBeats\n",
    "            \n",
    "        #find correct ending & update recurring total beats / rhyme\n",
    "        mask2=end_df[(end_df['Rhyme']==str(currentRhyme))&(end_df['Beats']==int(currentEndingBeats))]\n",
    "        \n",
    "        currentEnding=str(mask2['End'].values)\n",
    "        currentEnding=currentEnding.replace(\"['\",'')\n",
    "        currentEnding=currentEnding.replace(\"']\",'')\n",
    "        \n",
    "        currentRhyme=str(mask2['Rhyme'].values)\n",
    "        currentRhyme=currentRhyme.replace(\"['\",'')\n",
    "        currentRhyme=currentRhyme.replace(\"']\",'')\n",
    "        \n",
    "        print(currentPrefix + \" \" + currentEnding)"
   ]
  }
 ],
 "metadata": {
  "kernelspec": {
   "display_name": "Python 3 (ipykernel)",
   "language": "python",
   "name": "python3"
  },
  "language_info": {
   "codemirror_mode": {
    "name": "ipython",
    "version": 3
   },
   "file_extension": ".py",
   "mimetype": "text/x-python",
   "name": "python",
   "nbconvert_exporter": "python",
   "pygments_lexer": "ipython3",
   "version": "3.9.13"
  }
 },
 "nbformat": 4,
 "nbformat_minor": 5
}
